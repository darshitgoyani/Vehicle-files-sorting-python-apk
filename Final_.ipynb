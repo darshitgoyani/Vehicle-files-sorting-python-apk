{
 "cells": [
  {
   "cell_type": "code",
   "execution_count": 1,
   "id": "5592ae64",
   "metadata": {
    "scrolled": true
   },
   "outputs": [
    {
     "name": "stdout",
     "output_type": "stream",
     "text": [
      "Please wait in every step and don't close the window. It'll be automatically closed after completion. \n",
      "Please select a file\n"
     ]
    }
   ],
   "source": [
    "import os\n",
    "import pandas as pd\n",
    "import numpy as np\n",
    "import tkinter as tk\n",
    "import re\n",
    "from tkinter import ttk\n",
    "from tkinter import filedialog as fd\n",
    "from tkinter.messagebox import showinfo\n",
    "    \n",
    "print(\"Please wait in every step and don't close the window. It'll be automatically closed after completion. \")\n",
    "selectedfile = []\n",
    "\n",
    "\n",
    "def check_file():\n",
    "    if not selectedfile:\n",
    "        print(\"Please select a file\")\n",
    "        return False\n",
    "    else:\n",
    "        return True\n",
    "\n",
    "\n",
    "while not check_file():\n",
    "    root = tk.Tk()\n",
    "    root.title('Choose your file')\n",
    "    root.resizable(False, False)\n",
    "    root.geometry('300x150')\n",
    "    selectedfile = []\n",
    "\n",
    "    def select_file():\n",
    "        filetypes = (\n",
    "            ('All files', ('*.csv','*.xlsx', '*.xls')),\n",
    "            ('CSV files', '*.csv'),\n",
    "            ('Excel files', ('*.xlsx', '*.xls'))\n",
    "        )\n",
    "\n",
    "        filename = fd.askopenfilename(\n",
    "            title='Open a file',\n",
    "            initialdir='/',\n",
    "            filetypes=filetypes\n",
    "        )\n",
    "\n",
    "        showinfo(\n",
    "            title='Selected File',\n",
    "            message=filename\n",
    "        )\n",
    "        selectedfile.append(filename)\n",
    "        root.destroy()\n",
    "\n",
    "    # open button\n",
    "    open_button = ttk.Button(\n",
    "        root,\n",
    "        text='Open a File',\n",
    "        command=select_file\n",
    "    )\n",
    "\n",
    "    open_button.pack(expand=True)\n",
    "\n",
    "    # run the application\n",
    "    root.mainloop()\n",
    "\n",
    "if check_file():\n",
    "    file_extension = os.path.splitext(selectedfile[0])[1]\n",
    "\n",
    "    if file_extension == '.csv':\n",
    "        df1 = pd.read_csv(selectedfile[0], low_memory=False, encoding='utf-8')\n",
    "    elif file_extension == '.xlsx' or file_extension == '.xls':\n",
    "        df1 = pd.read_excel(selectedfile[0])\n",
    "    else:\n",
    "        print(\"Unsupported file format\")\n",
    "\n",
    "    df = df1.iloc[3:]\n",
    "    df.columns = df.iloc[0]\n",
    "    df = df.iloc[1:].reset_index(drop=True)"
   ]
  },
  {
   "cell_type": "code",
   "execution_count": 2,
   "id": "efe0fef0",
   "metadata": {},
   "outputs": [],
   "source": [
    "df_productId= df.loc[:,'Part Number']"
   ]
  },
  {
   "cell_type": "code",
   "execution_count": 3,
   "id": "759a2646",
   "metadata": {
    "scrolled": false
   },
   "outputs": [],
   "source": [
    "# Filter the DataFrame based on the conditions\n",
    "filtered_df = df.loc[(df['Drawing Release Status only'] == '2.VOB Release') | (df['Drawing Release Status only'] == '3.Tooling Release')]\n",
    "#Extract the 'Part Number' values from the filtered DataFrame\n",
    "filtered_product_ids = (filtered_df['Part Number'].to_list())"
   ]
  },
  {
   "cell_type": "code",
   "execution_count": 4,
   "id": "1de2c62a",
   "metadata": {
    "scrolled": true
   },
   "outputs": [],
   "source": [
    "filtered_product_ids = [id.replace('-', '_') for id in filtered_product_ids]"
   ]
  },
  {
   "cell_type": "code",
   "execution_count": 5,
   "id": "05bbd85c",
   "metadata": {},
   "outputs": [],
   "source": [
    "root = tk.Tk()\n",
    "root.withdraw()\n",
    "\n",
    "directory_path = fd.askdirectory(title='Select a folder')\n",
    "\n",
    "if directory_path:\n",
    "    var1 = []\n",
    "\n",
    "    for root, dirs, files in os.walk(directory_path):\n",
    "        for file_name in files:\n",
    "            file_path = os.path.join(root, file_name)\n",
    "            var1.append(file_path)\n",
    "\n",
    "#     for file_path in var1:\n",
    "#         print(file_path)\n",
    "# else:\n",
    "#     print(\"No folder selected\")"
   ]
  },
  {
   "cell_type": "code",
   "execution_count": 6,
   "id": "f8374bcf",
   "metadata": {
    "scrolled": true
   },
   "outputs": [],
   "source": [
    "df2=[]  \n",
    "for i in var1:\n",
    "    df2.append(os.path.basename(i).split('/')[-1].upper())\n",
    "\n",
    "df_2 = []\n",
    "for i in range(len(df2)):\n",
    "    converted_list = re.sub(r'[^a-zA-Z0-9\\s.]', '_', str(df2[i]))\n",
    "    df_2.append(converted_list)"
   ]
  },
  {
   "cell_type": "code",
   "execution_count": 7,
   "id": "f31baac0",
   "metadata": {
    "scrolled": true
   },
   "outputs": [],
   "source": [
    "filename_df = pd.DataFrame(df_2) "
   ]
  },
  {
   "cell_type": "code",
   "execution_count": 8,
   "id": "77da01d6",
   "metadata": {
    "scrolled": true
   },
   "outputs": [],
   "source": [
    "not_matching_list = []\n",
    "\n",
    "for product_id in filtered_product_ids:\n",
    "    matching = False\n",
    "    for file_name in df_2:\n",
    "        if product_id in file_name:\n",
    "            matching = True\n",
    "            break\n",
    "    if not matching:\n",
    "        product_id=product_id.replace('_','-')\n",
    "        not_matching_list.append(product_id)"
   ]
  },
  {
   "cell_type": "code",
   "execution_count": 9,
   "id": "bb13951f",
   "metadata": {},
   "outputs": [],
   "source": [
    "a=[]\n",
    "for i in range(len(not_matching_list)):\n",
    "    matching_rows=df.loc[df['Part Number'] == not_matching_list[i]]\n",
    "    for index in matching_rows.index:\n",
    "        a.append(index)"
   ]
  },
  {
   "cell_type": "code",
   "execution_count": 10,
   "id": "99de5bb3",
   "metadata": {},
   "outputs": [
    {
     "name": "stdout",
     "output_type": "stream",
     "text": [
      "Processing\n"
     ]
    }
   ],
   "source": [
    "matches ={}\n",
    "print('Processing')\n",
    "for i in range(len(not_matching_list)):  \n",
    "    for index, row in df.iterrows():\n",
    "        if row['Part Number'] == not_matching_list[i]:\n",
    "            if not_matching_list[i] in matches:\n",
    "                matches[not_matching_list[i]].append(index)\n",
    "            else:\n",
    "                matches[not_matching_list[i]] = [index]"
   ]
  },
  {
   "cell_type": "code",
   "execution_count": null,
   "id": "9c502117",
   "metadata": {},
   "outputs": [],
   "source": [
    "# def save_csv():\n",
    "#     # Open a file save dialog to select the location and filename\n",
    "#     save_path = fd.asksaveasfilename(\n",
    "#         defaultextension='.csv',\n",
    "#         filetypes=(('CSV files', '*.csv'), ('All files', '*.*'))\n",
    "#     )\n",
    "\n",
    "#     if save_path:\n",
    "#         df_matches = pd.DataFrame({'Unmatched Part Number': list(matches.keys()), 'Index in E-BOM': list(matches.values())})\n",
    "#         df_matches.to_csv(save_path, index=False)  # Save DataFrame to CSV file at the selected location\n",
    "#         root.destroy()\n",
    "\n",
    "# root = tk.Tk()\n",
    "# root.title('Choose your file')\n",
    "# root.resizable(False, False)\n",
    "# root.geometry('300x150')\n",
    "\n",
    "# save_csv() \n",
    "\n",
    "# root.mainloop()\n"
   ]
  },
  {
   "cell_type": "code",
   "execution_count": null,
   "id": "f4aafa81",
   "metadata": {},
   "outputs": [],
   "source": [
    "#     number = 30\n",
    "#     remaining_string = \"Window will close automatically in \" \n",
    "#     end_string= \" seconds\"\n",
    "#     while number>0: \n",
    "#         number2=\"{:2d}\".format(number)\n",
    "#         #if(number==1):\n",
    "#             #end_string= \" second\"\n",
    "#             #print(remaining_string+ \"{:2d}\".format(number) + end_string, end='\\r')\n",
    "#         print(f\"{remaining_string} {number2} {'second ' if number == 1 else 'seconds'}\", end='\\r') \n",
    "#         number -= 1\n",
    "#         time.sleep(1)"
   ]
  },
  {
   "cell_type": "code",
   "execution_count": null,
   "id": "8b1afe05",
   "metadata": {},
   "outputs": [],
   "source": [
    "import tkinter as tk\n",
    "from tkinter import ttk\n",
    "from tkinter import filedialog as fd\n",
    "from tkinter.messagebox import showinfo\n",
    "\n",
    "selectedsave = []\n",
    "\n",
    "# Define selectedarray\n",
    "selectedarray = True  # Replace True with your actual condition\n",
    "\n",
    "# Create the root window\n",
    "if selectedarray:\n",
    "    root = tk.Tk()\n",
    "    root.title('Save your file')\n",
    "    root.resizable(False, False)\n",
    "    root.geometry('300x150')\n",
    "\n",
    "    selectedfile = []\n",
    "\n",
    "    def save_file():\n",
    "        filetypes = (\n",
    "            ('CSV files', \"*.csv\"),\n",
    "        )\n",
    "\n",
    "        filename = fd.asksaveasfilename(\n",
    "            title='Save the file',\n",
    "            initialdir='/',\n",
    "            filetypes=filetypes,\n",
    "            defaultextension='.csv'\n",
    "        )\n",
    "\n",
    "        showinfo(\n",
    "            title='Selected File',\n",
    "            message=filename\n",
    "        )\n",
    "\n",
    "        selectedsave.append(filename)\n",
    "        root.destroy()\n",
    "\n",
    "    # Save button\n",
    "    save_button = ttk.Button(\n",
    "        root,\n",
    "        text='Save Your File',\n",
    "        command=save_file\n",
    "    )\n",
    "\n",
    "    save_button.pack(expand=True)\n",
    "\n",
    "    # Run the application\n",
    "    root.mainloop()\n",
    "\n",
    "if selectedarray:\n",
    "    # You should have your data or dataframe here to save\n",
    "    # ndf_concat.to_csv(selectedsave[0], index=False)\n",
    "    print(\"Your file has been successfully saved...\")\n"
   ]
  },
  {
   "cell_type": "code",
   "execution_count": null,
   "id": "9c403ea8",
   "metadata": {},
   "outputs": [],
   "source": []
  }
 ],
 "metadata": {
  "kernelspec": {
   "display_name": "Python 3 (ipykernel)",
   "language": "python",
   "name": "python3"
  },
  "language_info": {
   "codemirror_mode": {
    "name": "ipython",
    "version": 3
   },
   "file_extension": ".py",
   "mimetype": "text/x-python",
   "name": "python",
   "nbconvert_exporter": "python",
   "pygments_lexer": "ipython3",
   "version": "3.10.9"
  }
 },
 "nbformat": 4,
 "nbformat_minor": 5
}
